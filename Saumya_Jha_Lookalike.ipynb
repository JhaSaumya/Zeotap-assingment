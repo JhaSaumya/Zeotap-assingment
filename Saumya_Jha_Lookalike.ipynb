{
 "cells": [
  {
   "cell_type": "markdown",
   "id": "d14f363b",
   "metadata": {},
   "source": [
    "### Importing neccesary libraries"
   ]
  },
  {
   "cell_type": "code",
   "execution_count": 1,
   "id": "c4d8c864",
   "metadata": {},
   "outputs": [],
   "source": [
    "import pandas as pd\n",
    "import numpy as np\n",
    "from sklearn.preprocessing import StandardScaler, OneHotEncoder\n",
    "from sklearn.metrics.pairwise import cosine_similarity"
   ]
  },
  {
   "cell_type": "markdown",
   "id": "4afcb477",
   "metadata": {},
   "source": [
    "### Loading the datasets"
   ]
  },
  {
   "cell_type": "code",
   "execution_count": 2,
   "id": "e2ca1ade",
   "metadata": {},
   "outputs": [],
   "source": [
    "customers = pd.read_csv('Customers.csv')\n",
    "transactions = pd.read_csv('Transactions.csv')\n",
    "products = pd.read_csv('Products.csv')"
   ]
  },
  {
   "cell_type": "markdown",
   "id": "e9a6fdee",
   "metadata": {},
   "source": [
    "### Merging the product dataset with transaction dataset\n"
   ]
  },
  {
   "cell_type": "code",
   "execution_count": 3,
   "id": "b85c2523",
   "metadata": {},
   "outputs": [],
   "source": [
    "\n",
    "transactions = transactions.merge(products, on=\"ProductID\", how=\"left\")"
   ]
  },
  {
   "cell_type": "markdown",
   "id": "9e3e21d8",
   "metadata": {},
   "source": [
    "### Feature Engineering\n"
   ]
  },
  {
   "cell_type": "code",
   "execution_count": 5,
   "id": "2639e090",
   "metadata": {},
   "outputs": [],
   "source": [
    "# Feature Engineering\n",
    "def prepare_customer_features(customers, transactions):\n",
    "    transaction_summary = transactions.groupby(\"CustomerID\").agg(\n",
    "        total_spent=(\"TotalValue\", \"sum\"),\n",
    "        avg_spent=(\"TotalValue\", \"mean\"),\n",
    "        transaction_count=(\"TransactionID\", \"count\"),\n",
    "        unique_categories=(\"Category\", lambda x: x.nunique())\n",
    "    ).reset_index()\n",
    "\n",
    "    # Merge with customer information\n",
    "    customer_data = customers.merge(transaction_summary, on=\"CustomerID\", how=\"left\")\n",
    "    customer_data[\"Region\"] = customer_data[\"Region\"].fillna(\"Unknown\")\n",
    "    \n",
    "    # Handle missing values (replace NaNs with zeros)\n",
    "    customer_data.fillna(0, inplace=True)\n",
    "    return customer_data"
   ]
  },
  {
   "cell_type": "code",
   "execution_count": 6,
   "id": "4fe6492a",
   "metadata": {},
   "outputs": [],
   "source": [
    "customer_features = prepare_customer_features(customers, transactions)"
   ]
  },
  {
   "cell_type": "code",
   "execution_count": 7,
   "id": "2621d820",
   "metadata": {},
   "outputs": [
    {
     "data": {
      "text/html": [
       "<div>\n",
       "<style scoped>\n",
       "    .dataframe tbody tr th:only-of-type {\n",
       "        vertical-align: middle;\n",
       "    }\n",
       "\n",
       "    .dataframe tbody tr th {\n",
       "        vertical-align: top;\n",
       "    }\n",
       "\n",
       "    .dataframe thead th {\n",
       "        text-align: right;\n",
       "    }\n",
       "</style>\n",
       "<table border=\"1\" class=\"dataframe\">\n",
       "  <thead>\n",
       "    <tr style=\"text-align: right;\">\n",
       "      <th></th>\n",
       "      <th>CustomerID</th>\n",
       "      <th>CustomerName</th>\n",
       "      <th>Region</th>\n",
       "      <th>SignupDate</th>\n",
       "      <th>total_spent</th>\n",
       "      <th>avg_spent</th>\n",
       "      <th>transaction_count</th>\n",
       "      <th>unique_categories</th>\n",
       "    </tr>\n",
       "  </thead>\n",
       "  <tbody>\n",
       "    <tr>\n",
       "      <th>0</th>\n",
       "      <td>C0001</td>\n",
       "      <td>Lawrence Carroll</td>\n",
       "      <td>South America</td>\n",
       "      <td>2022-07-10</td>\n",
       "      <td>3354.52</td>\n",
       "      <td>670.904000</td>\n",
       "      <td>5.0</td>\n",
       "      <td>3.0</td>\n",
       "    </tr>\n",
       "    <tr>\n",
       "      <th>1</th>\n",
       "      <td>C0002</td>\n",
       "      <td>Elizabeth Lutz</td>\n",
       "      <td>Asia</td>\n",
       "      <td>2022-02-13</td>\n",
       "      <td>1862.74</td>\n",
       "      <td>465.685000</td>\n",
       "      <td>4.0</td>\n",
       "      <td>2.0</td>\n",
       "    </tr>\n",
       "    <tr>\n",
       "      <th>2</th>\n",
       "      <td>C0003</td>\n",
       "      <td>Michael Rivera</td>\n",
       "      <td>South America</td>\n",
       "      <td>2024-03-07</td>\n",
       "      <td>2725.38</td>\n",
       "      <td>681.345000</td>\n",
       "      <td>4.0</td>\n",
       "      <td>3.0</td>\n",
       "    </tr>\n",
       "    <tr>\n",
       "      <th>3</th>\n",
       "      <td>C0004</td>\n",
       "      <td>Kathleen Rodriguez</td>\n",
       "      <td>South America</td>\n",
       "      <td>2022-10-09</td>\n",
       "      <td>5354.88</td>\n",
       "      <td>669.360000</td>\n",
       "      <td>8.0</td>\n",
       "      <td>3.0</td>\n",
       "    </tr>\n",
       "    <tr>\n",
       "      <th>4</th>\n",
       "      <td>C0005</td>\n",
       "      <td>Laura Weber</td>\n",
       "      <td>Asia</td>\n",
       "      <td>2022-08-15</td>\n",
       "      <td>2034.24</td>\n",
       "      <td>678.080000</td>\n",
       "      <td>3.0</td>\n",
       "      <td>2.0</td>\n",
       "    </tr>\n",
       "    <tr>\n",
       "      <th>...</th>\n",
       "      <td>...</td>\n",
       "      <td>...</td>\n",
       "      <td>...</td>\n",
       "      <td>...</td>\n",
       "      <td>...</td>\n",
       "      <td>...</td>\n",
       "      <td>...</td>\n",
       "      <td>...</td>\n",
       "    </tr>\n",
       "    <tr>\n",
       "      <th>195</th>\n",
       "      <td>C0196</td>\n",
       "      <td>Laura Watts</td>\n",
       "      <td>Europe</td>\n",
       "      <td>2022-06-07</td>\n",
       "      <td>4982.88</td>\n",
       "      <td>1245.720000</td>\n",
       "      <td>4.0</td>\n",
       "      <td>3.0</td>\n",
       "    </tr>\n",
       "    <tr>\n",
       "      <th>196</th>\n",
       "      <td>C0197</td>\n",
       "      <td>Christina Harvey</td>\n",
       "      <td>Europe</td>\n",
       "      <td>2023-03-21</td>\n",
       "      <td>1928.65</td>\n",
       "      <td>642.883333</td>\n",
       "      <td>3.0</td>\n",
       "      <td>2.0</td>\n",
       "    </tr>\n",
       "    <tr>\n",
       "      <th>197</th>\n",
       "      <td>C0198</td>\n",
       "      <td>Rebecca Ray</td>\n",
       "      <td>Europe</td>\n",
       "      <td>2022-02-27</td>\n",
       "      <td>931.83</td>\n",
       "      <td>465.915000</td>\n",
       "      <td>2.0</td>\n",
       "      <td>2.0</td>\n",
       "    </tr>\n",
       "    <tr>\n",
       "      <th>198</th>\n",
       "      <td>C0199</td>\n",
       "      <td>Andrea Jenkins</td>\n",
       "      <td>Europe</td>\n",
       "      <td>2022-12-03</td>\n",
       "      <td>1979.28</td>\n",
       "      <td>494.820000</td>\n",
       "      <td>4.0</td>\n",
       "      <td>2.0</td>\n",
       "    </tr>\n",
       "    <tr>\n",
       "      <th>199</th>\n",
       "      <td>C0200</td>\n",
       "      <td>Kelly Cross</td>\n",
       "      <td>Asia</td>\n",
       "      <td>2023-06-11</td>\n",
       "      <td>4758.60</td>\n",
       "      <td>951.720000</td>\n",
       "      <td>5.0</td>\n",
       "      <td>4.0</td>\n",
       "    </tr>\n",
       "  </tbody>\n",
       "</table>\n",
       "<p>200 rows × 8 columns</p>\n",
       "</div>"
      ],
      "text/plain": [
       "    CustomerID        CustomerName         Region  SignupDate  total_spent  \\\n",
       "0        C0001    Lawrence Carroll  South America  2022-07-10      3354.52   \n",
       "1        C0002      Elizabeth Lutz           Asia  2022-02-13      1862.74   \n",
       "2        C0003      Michael Rivera  South America  2024-03-07      2725.38   \n",
       "3        C0004  Kathleen Rodriguez  South America  2022-10-09      5354.88   \n",
       "4        C0005         Laura Weber           Asia  2022-08-15      2034.24   \n",
       "..         ...                 ...            ...         ...          ...   \n",
       "195      C0196         Laura Watts         Europe  2022-06-07      4982.88   \n",
       "196      C0197    Christina Harvey         Europe  2023-03-21      1928.65   \n",
       "197      C0198         Rebecca Ray         Europe  2022-02-27       931.83   \n",
       "198      C0199      Andrea Jenkins         Europe  2022-12-03      1979.28   \n",
       "199      C0200         Kelly Cross           Asia  2023-06-11      4758.60   \n",
       "\n",
       "       avg_spent  transaction_count  unique_categories  \n",
       "0     670.904000                5.0                3.0  \n",
       "1     465.685000                4.0                2.0  \n",
       "2     681.345000                4.0                3.0  \n",
       "3     669.360000                8.0                3.0  \n",
       "4     678.080000                3.0                2.0  \n",
       "..           ...                ...                ...  \n",
       "195  1245.720000                4.0                3.0  \n",
       "196   642.883333                3.0                2.0  \n",
       "197   465.915000                2.0                2.0  \n",
       "198   494.820000                4.0                2.0  \n",
       "199   951.720000                5.0                4.0  \n",
       "\n",
       "[200 rows x 8 columns]"
      ]
     },
     "execution_count": 7,
     "metadata": {},
     "output_type": "execute_result"
    }
   ],
   "source": [
    "customer_features"
   ]
  },
  {
   "cell_type": "markdown",
   "id": "ed8bce9b",
   "metadata": {},
   "source": [
    "### Convert Data for Similarity Computation"
   ]
  },
  {
   "cell_type": "code",
   "execution_count": 16,
   "id": "7d693114",
   "metadata": {},
   "outputs": [],
   "source": [
    "def vectorize_features(customer_data):\n",
    "    encoder = OneHotEncoder(sparse_output=False, handle_unknown=\"ignore\")\n",
    "    region_encoded = encoder.fit_transform(customer_data[[\"Region\"]])    \n",
    "    # Scale numerical data\n",
    "    scaler = StandardScaler()\n",
    "    numerical_data = scaler.fit_transform(\n",
    "        customer_data[[\"total_spent\", \"avg_spent\", \"transaction_count\", \"unique_categories\"]]\n",
    "    )  \n",
    "    # Combine numerical and encoded categorical data\n",
    "    feature_matrix = np.hstack([region_encoded, numerical_data])\n",
    "    return feature_matrix"
   ]
  },
  {
   "cell_type": "code",
   "execution_count": 17,
   "id": "86a69448",
   "metadata": {},
   "outputs": [],
   "source": [
    "feature_matrix = vectorize_features(customer_features)"
   ]
  },
  {
   "cell_type": "code",
   "execution_count": 18,
   "id": "047e806b",
   "metadata": {},
   "outputs": [
    {
     "data": {
      "text/plain": [
       "array([[ 0.        ,  0.        ,  0.        , ..., -0.05478053,\n",
       "         0.        ,  0.17223279],\n",
       "       [ 1.        ,  0.        ,  0.        , ..., -0.9039848 ,\n",
       "        -0.45129368, -0.87160229],\n",
       "       [ 0.        ,  0.        ,  0.        , ..., -0.01157526,\n",
       "        -0.45129368,  0.17223279],\n",
       "       ...,\n",
       "       [ 0.        ,  1.        ,  0.        , ..., -0.90303305,\n",
       "        -1.35388105, -0.87160229],\n",
       "       [ 0.        ,  1.        ,  0.        , ..., -0.78342303,\n",
       "        -0.45129368, -0.87160229],\n",
       "       [ 1.        ,  0.        ,  0.        , ...,  1.1072471 ,\n",
       "         0.        ,  1.21606787]], shape=(200, 8))"
      ]
     },
     "execution_count": 18,
     "metadata": {},
     "output_type": "execute_result"
    }
   ],
   "source": [
    "feature_matrix"
   ]
  },
  {
   "cell_type": "code",
   "execution_count": 19,
   "id": "9b885022",
   "metadata": {},
   "outputs": [],
   "source": [
    "similarity_matrix = cosine_similarity(feature_matrix)"
   ]
  },
  {
   "cell_type": "code",
   "execution_count": 20,
   "id": "b85f8133",
   "metadata": {},
   "outputs": [
    {
     "data": {
      "text/plain": [
       "array([[ 1.        , -0.02922829,  0.87631918, ..., -0.01162104,\n",
       "        -0.03601935,  0.05358653],\n",
       "       [-0.02922829,  1.        ,  0.18251406, ...,  0.71572797,\n",
       "         0.70128911, -0.4346459 ],\n",
       "       [ 0.87631918,  0.18251406,  1.        , ...,  0.34211311,\n",
       "         0.17860772, -0.0345325 ],\n",
       "       ...,\n",
       "       [-0.01162104,  0.71572797,  0.34211311, ...,  1.        ,\n",
       "         0.9282682 , -0.589807  ],\n",
       "       [-0.03601935,  0.70128911,  0.17860772, ...,  0.9282682 ,\n",
       "         1.        , -0.6782523 ],\n",
       "       [ 0.05358653, -0.4346459 , -0.0345325 , ..., -0.589807  ,\n",
       "        -0.6782523 ,  1.        ]], shape=(200, 200))"
      ]
     },
     "execution_count": 20,
     "metadata": {},
     "output_type": "execute_result"
    }
   ],
   "source": [
    "similarity_matrix"
   ]
  },
  {
   "cell_type": "markdown",
   "id": "b31b69a2",
   "metadata": {},
   "source": [
    "### Function for output data\n"
   ]
  },
  {
   "cell_type": "code",
   "execution_count": 22,
   "id": "5012c62d",
   "metadata": {},
   "outputs": [],
   "source": [
    "def get_lookalikes(similarity_matrix, customer_ids, target_ids):\n",
    "    lookalikes = {}\n",
    "    for target_idx, target_id in enumerate(target_ids):\n",
    "        # Get similarity scores for the target customer\n",
    "        scores = list(enumerate(similarity_matrix[target_idx]))\n",
    "        # Sort by similarity score (exclude the customer itself)\n",
    "        scores = sorted(scores, key=lambda x: x[1], reverse=True)[1:4]\n",
    "        # Map top 3 similar customers\n",
    "        lookalikes[target_id] = [(customer_ids[idx], round(score, 3)) for idx, score in scores]\n",
    "    return lookalikes"
   ]
  },
  {
   "cell_type": "code",
   "execution_count": 23,
   "id": "af4df38c",
   "metadata": {},
   "outputs": [],
   "source": [
    "all_customer_ids = customer_features[\"CustomerID\"].tolist()\n",
    "lookalike_targets = customer_features[customer_features[\"CustomerID\"].str.contains(\"C00\")][:20][\"CustomerID\"]"
   ]
  },
  {
   "cell_type": "code",
   "execution_count": 24,
   "id": "6101b6a1",
   "metadata": {},
   "outputs": [
    {
     "data": {
      "text/plain": [
       "0     C0001\n",
       "1     C0002\n",
       "2     C0003\n",
       "3     C0004\n",
       "4     C0005\n",
       "5     C0006\n",
       "6     C0007\n",
       "7     C0008\n",
       "8     C0009\n",
       "9     C0010\n",
       "10    C0011\n",
       "11    C0012\n",
       "12    C0013\n",
       "13    C0014\n",
       "14    C0015\n",
       "15    C0016\n",
       "16    C0017\n",
       "17    C0018\n",
       "18    C0019\n",
       "19    C0020\n",
       "Name: CustomerID, dtype: object"
      ]
     },
     "execution_count": 24,
     "metadata": {},
     "output_type": "execute_result"
    }
   ],
   "source": [
    "lookalike_targets"
   ]
  },
  {
   "cell_type": "code",
   "execution_count": 25,
   "id": "75d0dbf9",
   "metadata": {},
   "outputs": [],
   "source": [
    "lookalike_map = get_lookalikes(similarity_matrix, all_customer_ids, lookalike_targets)"
   ]
  },
  {
   "cell_type": "code",
   "execution_count": 26,
   "id": "181bd6cd",
   "metadata": {},
   "outputs": [
    {
     "data": {
      "text/plain": [
       "{'C0001': [('C0152', np.float64(1.0)),\n",
       "  ('C0107', np.float64(0.966)),\n",
       "  ('C0011', np.float64(0.937))],\n",
       " 'C0002': [('C0142', np.float64(0.978)),\n",
       "  ('C0128', np.float64(0.945)),\n",
       "  ('C0134', np.float64(0.937))],\n",
       " 'C0003': [('C0129', np.float64(0.922)),\n",
       "  ('C0001', np.float64(0.876)),\n",
       "  ('C0152', np.float64(0.872))],\n",
       " 'C0004': [('C0108', np.float64(0.983)),\n",
       "  ('C0165', np.float64(0.974)),\n",
       "  ('C0012', np.float64(0.967))],\n",
       " 'C0005': [('C0159', np.float64(1.0)),\n",
       "  ('C0123', np.float64(0.98)),\n",
       "  ('C0186', np.float64(0.978))],\n",
       " 'C0006': [('C0158', np.float64(0.972)),\n",
       "  ('C0187', np.float64(0.934)),\n",
       "  ('C0148', np.float64(0.934))],\n",
       " 'C0007': [('C0140', np.float64(0.976)),\n",
       "  ('C0080', np.float64(0.955)),\n",
       "  ('C0078', np.float64(0.954))],\n",
       " 'C0008': [('C0109', np.float64(0.973)),\n",
       "  ('C0098', np.float64(0.94)),\n",
       "  ('C0139', np.float64(0.921))],\n",
       " 'C0009': [('C0010', np.float64(0.976)),\n",
       "  ('C0060', np.float64(0.974)),\n",
       "  ('C0199', np.float64(0.951))],\n",
       " 'C0010': [('C0199', np.float64(0.992)),\n",
       "  ('C0009', np.float64(0.976)),\n",
       "  ('C0062', np.float64(0.944))],\n",
       " 'C0011': [('C0107', np.float64(0.995)),\n",
       "  ('C0152', np.float64(0.947)),\n",
       "  ('C0001', np.float64(0.937))],\n",
       " 'C0012': [('C0155', np.float64(0.998)),\n",
       "  ('C0108', np.float64(0.985)),\n",
       "  ('C0099', np.float64(0.967))],\n",
       " 'C0013': [('C0087', np.float64(0.99)),\n",
       "  ('C0099', np.float64(0.986)),\n",
       "  ('C0155', np.float64(0.979))],\n",
       " 'C0014': [('C0060', np.float64(0.978)),\n",
       "  ('C0198', np.float64(0.971)),\n",
       "  ('C0062', np.float64(0.96))],\n",
       " 'C0015': [('C0144', np.float64(0.991)),\n",
       "  ('C0131', np.float64(0.974)),\n",
       "  ('C0058', np.float64(0.958))],\n",
       " 'C0016': [('C0183', np.float64(1.0)),\n",
       "  ('C0026', np.float64(0.881)),\n",
       "  ('C0018', np.float64(0.871))],\n",
       " 'C0017': [('C0075', np.float64(0.971)),\n",
       "  ('C0179', np.float64(0.883)),\n",
       "  ('C0124', np.float64(0.879))],\n",
       " 'C0018': [('C0079', np.float64(0.94)),\n",
       "  ('C0016', np.float64(0.871)),\n",
       "  ('C0183', np.float64(0.861))],\n",
       " 'C0019': [('C0010', np.float64(0.884)),\n",
       "  ('C0069', np.float64(0.875)),\n",
       "  ('C0172', np.float64(0.861))],\n",
       " 'C0020': [('C0042', np.float64(0.956)),\n",
       "  ('C0176', np.float64(0.955)),\n",
       "  ('C0110', np.float64(0.908))]}"
      ]
     },
     "execution_count": 26,
     "metadata": {},
     "output_type": "execute_result"
    }
   ],
   "source": [
    "lookalike_map"
   ]
  },
  {
   "cell_type": "code",
   "execution_count": 27,
   "id": "67e9dae7",
   "metadata": {},
   "outputs": [],
   "source": [
    "output_data = {\n",
    "    \"cust_id\": list(lookalike_map.keys()),\n",
    "    \"similar_customers\": [lookalike_map[key] for key in lookalike_map.keys()]\n",
    "}\n",
    "\n",
    "output_df = pd.DataFrame(output_data)"
   ]
  },
  {
   "cell_type": "code",
   "execution_count": 28,
   "id": "b8860ab6",
   "metadata": {},
   "outputs": [
    {
     "data": {
      "text/html": [
       "<div>\n",
       "<style scoped>\n",
       "    .dataframe tbody tr th:only-of-type {\n",
       "        vertical-align: middle;\n",
       "    }\n",
       "\n",
       "    .dataframe tbody tr th {\n",
       "        vertical-align: top;\n",
       "    }\n",
       "\n",
       "    .dataframe thead th {\n",
       "        text-align: right;\n",
       "    }\n",
       "</style>\n",
       "<table border=\"1\" class=\"dataframe\">\n",
       "  <thead>\n",
       "    <tr style=\"text-align: right;\">\n",
       "      <th></th>\n",
       "      <th>cust_id</th>\n",
       "      <th>similar_customers</th>\n",
       "    </tr>\n",
       "  </thead>\n",
       "  <tbody>\n",
       "    <tr>\n",
       "      <th>0</th>\n",
       "      <td>C0001</td>\n",
       "      <td>[(C0152, 1.0), (C0107, 0.966), (C0011, 0.937)]</td>\n",
       "    </tr>\n",
       "    <tr>\n",
       "      <th>1</th>\n",
       "      <td>C0002</td>\n",
       "      <td>[(C0142, 0.978), (C0128, 0.945), (C0134, 0.937)]</td>\n",
       "    </tr>\n",
       "    <tr>\n",
       "      <th>2</th>\n",
       "      <td>C0003</td>\n",
       "      <td>[(C0129, 0.922), (C0001, 0.876), (C0152, 0.872)]</td>\n",
       "    </tr>\n",
       "    <tr>\n",
       "      <th>3</th>\n",
       "      <td>C0004</td>\n",
       "      <td>[(C0108, 0.983), (C0165, 0.974), (C0012, 0.967)]</td>\n",
       "    </tr>\n",
       "    <tr>\n",
       "      <th>4</th>\n",
       "      <td>C0005</td>\n",
       "      <td>[(C0159, 1.0), (C0123, 0.98), (C0186, 0.978)]</td>\n",
       "    </tr>\n",
       "    <tr>\n",
       "      <th>5</th>\n",
       "      <td>C0006</td>\n",
       "      <td>[(C0158, 0.972), (C0187, 0.934), (C0148, 0.934)]</td>\n",
       "    </tr>\n",
       "    <tr>\n",
       "      <th>6</th>\n",
       "      <td>C0007</td>\n",
       "      <td>[(C0140, 0.976), (C0080, 0.955), (C0078, 0.954)]</td>\n",
       "    </tr>\n",
       "    <tr>\n",
       "      <th>7</th>\n",
       "      <td>C0008</td>\n",
       "      <td>[(C0109, 0.973), (C0098, 0.94), (C0139, 0.921)]</td>\n",
       "    </tr>\n",
       "    <tr>\n",
       "      <th>8</th>\n",
       "      <td>C0009</td>\n",
       "      <td>[(C0010, 0.976), (C0060, 0.974), (C0199, 0.951)]</td>\n",
       "    </tr>\n",
       "    <tr>\n",
       "      <th>9</th>\n",
       "      <td>C0010</td>\n",
       "      <td>[(C0199, 0.992), (C0009, 0.976), (C0062, 0.944)]</td>\n",
       "    </tr>\n",
       "    <tr>\n",
       "      <th>10</th>\n",
       "      <td>C0011</td>\n",
       "      <td>[(C0107, 0.995), (C0152, 0.947), (C0001, 0.937)]</td>\n",
       "    </tr>\n",
       "    <tr>\n",
       "      <th>11</th>\n",
       "      <td>C0012</td>\n",
       "      <td>[(C0155, 0.998), (C0108, 0.985), (C0099, 0.967)]</td>\n",
       "    </tr>\n",
       "    <tr>\n",
       "      <th>12</th>\n",
       "      <td>C0013</td>\n",
       "      <td>[(C0087, 0.99), (C0099, 0.986), (C0155, 0.979)]</td>\n",
       "    </tr>\n",
       "    <tr>\n",
       "      <th>13</th>\n",
       "      <td>C0014</td>\n",
       "      <td>[(C0060, 0.978), (C0198, 0.971), (C0062, 0.96)]</td>\n",
       "    </tr>\n",
       "    <tr>\n",
       "      <th>14</th>\n",
       "      <td>C0015</td>\n",
       "      <td>[(C0144, 0.991), (C0131, 0.974), (C0058, 0.958)]</td>\n",
       "    </tr>\n",
       "    <tr>\n",
       "      <th>15</th>\n",
       "      <td>C0016</td>\n",
       "      <td>[(C0183, 1.0), (C0026, 0.881), (C0018, 0.871)]</td>\n",
       "    </tr>\n",
       "    <tr>\n",
       "      <th>16</th>\n",
       "      <td>C0017</td>\n",
       "      <td>[(C0075, 0.971), (C0179, 0.883), (C0124, 0.879)]</td>\n",
       "    </tr>\n",
       "    <tr>\n",
       "      <th>17</th>\n",
       "      <td>C0018</td>\n",
       "      <td>[(C0079, 0.94), (C0016, 0.871), (C0183, 0.861)]</td>\n",
       "    </tr>\n",
       "    <tr>\n",
       "      <th>18</th>\n",
       "      <td>C0019</td>\n",
       "      <td>[(C0010, 0.884), (C0069, 0.875), (C0172, 0.861)]</td>\n",
       "    </tr>\n",
       "    <tr>\n",
       "      <th>19</th>\n",
       "      <td>C0020</td>\n",
       "      <td>[(C0042, 0.956), (C0176, 0.955), (C0110, 0.908)]</td>\n",
       "    </tr>\n",
       "  </tbody>\n",
       "</table>\n",
       "</div>"
      ],
      "text/plain": [
       "   cust_id                                 similar_customers\n",
       "0    C0001    [(C0152, 1.0), (C0107, 0.966), (C0011, 0.937)]\n",
       "1    C0002  [(C0142, 0.978), (C0128, 0.945), (C0134, 0.937)]\n",
       "2    C0003  [(C0129, 0.922), (C0001, 0.876), (C0152, 0.872)]\n",
       "3    C0004  [(C0108, 0.983), (C0165, 0.974), (C0012, 0.967)]\n",
       "4    C0005     [(C0159, 1.0), (C0123, 0.98), (C0186, 0.978)]\n",
       "5    C0006  [(C0158, 0.972), (C0187, 0.934), (C0148, 0.934)]\n",
       "6    C0007  [(C0140, 0.976), (C0080, 0.955), (C0078, 0.954)]\n",
       "7    C0008   [(C0109, 0.973), (C0098, 0.94), (C0139, 0.921)]\n",
       "8    C0009  [(C0010, 0.976), (C0060, 0.974), (C0199, 0.951)]\n",
       "9    C0010  [(C0199, 0.992), (C0009, 0.976), (C0062, 0.944)]\n",
       "10   C0011  [(C0107, 0.995), (C0152, 0.947), (C0001, 0.937)]\n",
       "11   C0012  [(C0155, 0.998), (C0108, 0.985), (C0099, 0.967)]\n",
       "12   C0013   [(C0087, 0.99), (C0099, 0.986), (C0155, 0.979)]\n",
       "13   C0014   [(C0060, 0.978), (C0198, 0.971), (C0062, 0.96)]\n",
       "14   C0015  [(C0144, 0.991), (C0131, 0.974), (C0058, 0.958)]\n",
       "15   C0016    [(C0183, 1.0), (C0026, 0.881), (C0018, 0.871)]\n",
       "16   C0017  [(C0075, 0.971), (C0179, 0.883), (C0124, 0.879)]\n",
       "17   C0018   [(C0079, 0.94), (C0016, 0.871), (C0183, 0.861)]\n",
       "18   C0019  [(C0010, 0.884), (C0069, 0.875), (C0172, 0.861)]\n",
       "19   C0020  [(C0042, 0.956), (C0176, 0.955), (C0110, 0.908)]"
      ]
     },
     "execution_count": 28,
     "metadata": {},
     "output_type": "execute_result"
    }
   ],
   "source": [
    "output_df"
   ]
  },
  {
   "cell_type": "code",
   "execution_count": 29,
   "id": "724382c2",
   "metadata": {},
   "outputs": [
    {
     "name": "stdout",
     "output_type": "stream",
     "text": [
      "Lookalike.csv generated successfully!\n"
     ]
    }
   ],
   "source": [
    "output_df.to_csv(\"Lookalike.csv\", index=False)\n",
    "print(\"Lookalike.csv generated successfully!\")"
   ]
  }
 ],
 "metadata": {
  "kernelspec": {
   "display_name": "Python 3",
   "language": "python",
   "name": "python3"
  },
  "language_info": {
   "codemirror_mode": {
    "name": "ipython",
    "version": 3
   },
   "file_extension": ".py",
   "mimetype": "text/x-python",
   "name": "python",
   "nbconvert_exporter": "python",
   "pygments_lexer": "ipython3",
   "version": "3.12.6"
  }
 },
 "nbformat": 4,
 "nbformat_minor": 5
}
